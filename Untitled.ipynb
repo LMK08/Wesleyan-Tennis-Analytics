{
 "cells": [
  {
   "cell_type": "code",
   "execution_count": 3,
   "id": "433da780-e203-4820-9f0b-c7919f6f5f27",
   "metadata": {},
   "outputs": [
    {
     "name": "stdout",
     "output_type": "stream",
     "text": [
      "Failed to retrieve a valid ChromeDriver version from the endpoint.\n"
     ]
    }
   ],
   "source": [
    "import requests\n",
    "import json\n",
    "import os\n",
    "\n",
    "# URL of the JSON endpoint\n",
    "endpoint_url = \"https://chromedriver.storage.googleapis.com/LATEST_RELEASE_121\"\n",
    "\n",
    "# Send an HTTP GET request to the JSON endpoint\n",
    "response = requests.get(endpoint_url)\n",
    "\n",
    "# Check if the response is successful and contains a valid version number\n",
    "if response.status_code == 200 and response.text.strip().isdigit():\n",
    "    # Parse the JSON response\n",
    "    chrome_driver_version = response.text.strip()\n",
    "\n",
    "    # Construct the download URL for the ChromeDriver executable\n",
    "    download_url = f\"https://chromedriver.storage.googleapis.com/{chrome_driver_version}/chromedriver_mac64.zip\"\n",
    "\n",
    "    # Directory to save the downloaded ChromeDriver executable\n",
    "    download_dir = \"/Users/lkimball/Desktop/\"\n",
    "\n",
    "    # Path to save the downloaded file\n",
    "    file_path = os.path.join(download_dir, f\"chromedriver_{chrome_driver_version}.zip\")\n",
    "\n",
    "    # Send an HTTP GET request to download the ChromeDriver executable\n",
    "    download_response = requests.get(download_url)\n",
    "\n",
    "    # Save the downloaded file to the specified directory\n",
    "    with open(file_path, 'wb') as file:\n",
    "        file.write(download_response.content)\n",
    "\n",
    "    print(f\"ChromeDriver {chrome_driver_version} downloaded successfully to {file_path}\")\n",
    "else:\n",
    "    print(\"Failed to retrieve a valid ChromeDriver version from the endpoint.\")\n"
   ]
  }
 ],
 "metadata": {
  "kernelspec": {
   "display_name": "Python 3 (ipykernel)",
   "language": "python",
   "name": "python3"
  },
  "language_info": {
   "codemirror_mode": {
    "name": "ipython",
    "version": 3
   },
   "file_extension": ".py",
   "mimetype": "text/x-python",
   "name": "python",
   "nbconvert_exporter": "python",
   "pygments_lexer": "ipython3",
   "version": "3.9.7"
  }
 },
 "nbformat": 4,
 "nbformat_minor": 5
}
